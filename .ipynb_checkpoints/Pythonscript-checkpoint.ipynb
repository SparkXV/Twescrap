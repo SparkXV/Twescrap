{
 "cells": [
  {
   "cell_type": "code",
   "execution_count": 2,
   "metadata": {},
   "outputs": [],
   "source": [
    "import json\n",
    "\n",
    "# A dictionary to store twitter data.\n",
    "\n",
    "t_cred = dict()\n",
    "\n",
    "t_cred['CONSUMER_KEY'] = 'hViMaNZgtssaZZrkQaIDLzgXs'\n",
    "t_cred['CONSUMER_SECRET_KEY'] = 'Eyst9Weh4h1dmTNMC1blYxpzDhMbgqQmDxHu7VXYjVMjiJXAEX'\n",
    "t_cred['ACCESS_KEY'] = '807114125432209408-nxyg8bGiLSpOwHP6ntW4XPmoRIo8mwd'\n",
    "t_cred['ACCESS_SECRET_KEY'] = 'bp7Ga5Hk1acXviCksmSTtXlFAkuNr1jkruYBZ0qMnm3vD'\n",
    "\n",
    "# dump to json\n",
    "\n",
    "with open('twitter_cred.json', 'w') as information:\n",
    "    json.dump(t_cred, information, indent=4, sort_keys=True)\n"
   ]
  },
  {
   "cell_type": "code",
   "execution_count": 6,
   "metadata": {},
   "outputs": [
    {
     "name": "stdout",
     "output_type": "stream",
     "text": [
      "Enter username:DeepanshuVijay6\n"
     ]
    }
   ],
   "source": [
    "import tweepy\n",
    "import sys\n",
    "import csv\n",
    "import json\n",
    "\n",
    "# load Twitter API credentials\n",
    "\n",
    "with open('twitter_cred.json') as data:\n",
    "    info = json.load(data)\n",
    "    consumer_key = info['CONSUMER_KEY']\n",
    "    consumer_secret_key = info['CONSUMER_SECRET_KEY']\n",
    "    access_key = info['ACCESS_KEY']\n",
    "    access_secret_key = info['ACCESS_SECRET_KEY']\n",
    "\n",
    "def get_tweets(user_name):                                  # function to get tweets\n",
    "\n",
    "    # Authorization && initialization\n",
    "\n",
    "    auth = tweepy.OAuthHandler(consumer_key, consumer_secret_key)\n",
    "    auth.set_access_token(access_key, access_secret_key)\n",
    "    api = tweepy.API(auth)\n",
    "\n",
    "    tweets = []                                                                 # list to store the extracted tweets\n",
    "\n",
    "    new_tweets = api.user_timeline(user_name=user_name, count=200)\n",
    "    tweets.extend(new_tweets)\n",
    "\n",
    "    old_tweet = tweets[-1].id - 1                                             # save id of 1 less than the oldest tweet\n",
    "\n",
    "    # grabbing tweets till none are left\n",
    "\n",
    "    while len(new_tweets)>0:\n",
    "        new_tweets = api.user_timeline(user_name=user_name,count=200, max_id=old_tweet)\n",
    "        tweets.extend(new_tweets)\n",
    "        old_tweet = tweets[-1].id - 1\n",
    "    return tweets\n",
    "\n",
    "\n",
    "def store_tweets(alltweets,file='tweets.json'):\n",
    "\n",
    "    # a list of all formatted tweets\n",
    "    tweet_list=[]\n",
    "\n",
    "    for tweet in alltweets:\n",
    "        # a dict to contain information about single tweet\n",
    "        tweet_information=dict()\n",
    "        # text of tweet\n",
    "        tweet_information['text']=tweet.text.encode('utf-8')\n",
    "        # date and time at which tweet was created\n",
    "        tweet_information['created_at']=tweet.created_at.strftime(\"%Y-%m-%d %H:%M:%S\")\n",
    "\n",
    "        # retweet count\n",
    "        tweet_information['retweet_count']=tweet.retweet_count\n",
    "        # favourites count\n",
    "        tweet_information['favorite_count']=tweet.favorite_count\n",
    "\n",
    "        # user information in user dictionery\n",
    "        user_dictionery=tweet._json['user']\n",
    "\n",
    "    # open file desc to output file with write permissions\n",
    "\n",
    "    # dump tweets to the file\n",
    "    with open('details.json','w') as inf:\n",
    "        json.dump(tweet_list,inf,indent=4, sort_keys=True)\n",
    "\n",
    "if __name__ == '__main__':\n",
    "    alltweets=[]\n",
    "    alltweets=get_tweets(input(\"Enter username:\"))\n",
    "    store_tweets(alltweets)\n",
    "    "
   ]
  },
  {
   "cell_type": "code",
   "execution_count": null,
   "metadata": {},
   "outputs": [],
   "source": []
  }
 ],
 "metadata": {
  "kernelspec": {
   "display_name": "Python 3",
   "language": "python",
   "name": "python3"
  },
  "language_info": {
   "codemirror_mode": {
    "name": "ipython",
    "version": 3
   },
   "file_extension": ".py",
   "mimetype": "text/x-python",
   "name": "python",
   "nbconvert_exporter": "python",
   "pygments_lexer": "ipython3",
   "version": "3.7.2rc1"
  }
 },
 "nbformat": 4,
 "nbformat_minor": 2
}
